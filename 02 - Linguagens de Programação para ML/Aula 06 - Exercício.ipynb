{
 "cells": [
  {
   "cell_type": "markdown",
   "id": "b50a711d",
   "metadata": {},
   "source": [
    "# Desafio\n",
    "\n",
    "Leia 2 valores de ponto flutuante de dupla precisão **A** e **B**, que correspondem a 2 notas de um aluno.  \n",
    "A seguir, calcule a média do aluno, sabendo que a nota **A** tem peso **3.5** e a nota **B** tem peso **7.5**  \n",
    "(A soma dos pesos portanto é 11).\n",
    "\n",
    "Assuma que cada nota pode ir de **0 até 10.0**, sempre com uma casa decimal.\n",
    "\n",
    "---\n",
    "\n",
    "## Entrada\n",
    "\n",
    "O arquivo de entrada contém **2 valores** com uma casa decimal cada um.\n",
    "\n",
    "---\n",
    "\n",
    "## Saída\n",
    "\n",
    "Calcule e imprima a variável **MEDIA** conforme o exemplo abaixo, com **5 dígitos após o ponto decimal** e com um espaço em branco **antes e depois da igualdade**.  \n",
    "\n",
    "Utilize variáveis de dupla precisão (`double`) e, como em todos os problemas, **não esqueça de imprimir o fim de linha após o resultado**, caso contrário, você receberá *\"Presentation Error\"*.\n",
    "\n",
    "---\n",
    "\n",
    "## Exemplos\n",
    "\n",
    "| Exemplos de Entrada | Exemplos de Saída    |\n",
    "|---------------------|-----------------------|\n",
    "| 5.0<br>7.1          | MEDIA = 6.43182       |\n",
    "| 0.0<br>7.1          | MEDIA = 4.84091       |\n",
    "| 10.0<br>10.0        | MEDIA = 10.00000      |\n"
   ]
  },
  {
   "cell_type": "code",
   "execution_count": null,
   "id": "7bfa6cd4",
   "metadata": {},
   "outputs": [
    {
     "name": "stdout",
     "output_type": "stream",
     "text": [
      "MEDIA = 6.43182\n"
     ]
    }
   ],
   "source": [
    "# SOBRE ENTRADA E SAÍDA DE DADOS EM PYTHON:\n",
    "# FUNÇÃO input(): Ela recebe como parâmetro uma String que será visível ao usuário, \n",
    "# geralmente informando que tipo de informação ele está esperando receber;\n",
    "# FUNÇÃO print(): Ela é a responsável por imprimir os dados e informar os valores no terminal;\n",
    "\n",
    "# Abaixo segue um exemplo de código que você pode ou não utilizar\n",
    "a = float(input(\"Digite a 1ª Nota do Aluno (0.0 a 10.0): \"))\n",
    "b = float(input(\"Digite a 2ª Nota do Aluno (0.0 a 10.0): \"))\n",
    "\n",
    "# TODO: Com base nos pesos informados das notas A e B calcule a média.\n",
    "# DICA: Utilize seus conhecimentos em lógica de programação, Precedência de Operadores Lógicos;\n",
    "a *= (3.5 / 11)\n",
    "b *= (7.5 / 11)\n",
    "media = a + b\n",
    "\n",
    "print(\"MEDIA = %.5f\"%media)"
   ]
  },
  {
   "cell_type": "code",
   "execution_count": 4,
   "id": "ab35f33d",
   "metadata": {},
   "outputs": [
    {
     "data": {
      "text/plain": [
       "1.0"
      ]
     },
     "execution_count": 4,
     "metadata": {},
     "output_type": "execute_result"
    }
   ],
   "source": [
    "7.5/11 + 3.5/11\n"
   ]
  },
  {
   "cell_type": "markdown",
   "id": "d5eff186",
   "metadata": {},
   "source": [
    "# Desafio\n",
    "\n",
    "Leia 3 valores reais (**A, B e C**) e verifique se eles formam ou não um triângulo.  \n",
    "\n",
    "- **Caso positivo**: calcule o **perímetro do triângulo** (soma de todos os lados) e apresente a mensagem:\n",
    "\n",
    "\n",
    "- **Caso negativo**: calcule a **área do trapézio** que tem **A** e **B** como bases e **C** como altura, mostrando a mensagem:\n",
    "\n",
    "\n",
    "📌 Fórmula da área de um trapézio:  \n",
    "$$\n",
    "AREA = \\frac{(A + B) \\times C}{2}\n",
    "$$\n",
    "\n",
    "---\n",
    "\n",
    "## Entrada\n",
    "\n",
    "A entrada contém **três valores reais**.\n",
    "\n",
    "---\n",
    "\n",
    "## Saída\n",
    "\n",
    "O resultado deve ser apresentado com **uma casa decimal**.\n",
    "\n",
    "---\n",
    "\n",
    "## Exemplos\n",
    "\n",
    "| Exemplo de Entrada | Exemplo de Saída |\n",
    "|--------------------|------------------|\n",
    "| 6.0 4.0 2.0        | Area = 10.0      |\n",
    "| 6.0 4.0 2.1        | Perimetro = 12.1 |\n",
    "\n"
   ]
  },
  {
   "cell_type": "code",
   "execution_count": 6,
   "id": "d5053b17",
   "metadata": {},
   "outputs": [
    {
     "name": "stdout",
     "output_type": "stream",
     "text": [
      "Area = 40.0\n"
     ]
    }
   ],
   "source": [
    "# DICAS SOBRE PYTHON:\n",
    "# FUNÇÃO input(): Ela recebe como parâmetro uma String que será visível ao usuário, \n",
    "# onde geralmente informa que tipo de informação ele está esperando receber;\n",
    "# FUNÇÃO print(): Ela é a responsável por imprimir os dados e informar os valores no terminal;\n",
    "# MÉTODO split(): permite dividir o conteúdo da variável de acordo com as condições especificadas \n",
    "# em cada parâmetro da função ou com os valores predefinidos por padrão;\n",
    "\n",
    "# Abaixo segue um exemplo de código que você pode ou não utilizar\n",
    "lados = [float(x) for x in input().split(',')]\n",
    "\n",
    "a = lados[0];\n",
    "b = lados[1];\n",
    "c = lados[2];\n",
    "\n",
    "# TODO: Para o cálculo do perímetro triangular aplique seus conhecimentos em Estruturas Condicionais, \n",
    "# e complete os espaços em branco com as operações que solucionam o desafio.\n",
    "if a + b > c and a + c > b and b + c > a:\n",
    "    print(f\"Perimetro = {a + b + c:.1f}\")\n",
    "else:\n",
    "    print(f\"Area = {( (a + b) * c ) / 2:.1f}\")"
   ]
  }
 ],
 "metadata": {
  "kernelspec": {
   "display_name": "science",
   "language": "python",
   "name": "python3"
  },
  "language_info": {
   "codemirror_mode": {
    "name": "ipython",
    "version": 3
   },
   "file_extension": ".py",
   "mimetype": "text/x-python",
   "name": "python",
   "nbconvert_exporter": "python",
   "pygments_lexer": "ipython3",
   "version": "3.13.0"
  }
 },
 "nbformat": 4,
 "nbformat_minor": 5
}
