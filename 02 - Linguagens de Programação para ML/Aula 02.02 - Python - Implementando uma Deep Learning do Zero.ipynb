{
 "cells": [
  {
   "cell_type": "markdown",
   "id": "03299b5f",
   "metadata": {},
   "source": [
    "# Implementando uma Deep Learning do Zero em Python"
   ]
  },
  {
   "cell_type": "code",
   "execution_count": 1,
   "id": "06b68258",
   "metadata": {},
   "outputs": [],
   "source": [
    "import numpy as nb\n",
    "import torch\n",
    "import torch.nn.functional as F\n",
    "from torch import nn, optim\n",
    "import torchvision\n",
    "from torchvision import datasets, transforms\n",
    "import matplotlib.pyplot as plt\n",
    "from time import time"
   ]
  },
  {
   "cell_type": "code",
   "execution_count": 2,
   "id": "5c6ed0b1",
   "metadata": {},
   "outputs": [],
   "source": [
    "import torch\n",
    "from torchvision import datasets, transforms\n",
    "\n",
    "# definindo a conversão de imagem para tensor\n",
    "transform = transforms.ToTensor()\n",
    "\n",
    "# Carrega a parte de treino do dataset\n",
    "trainset = datasets.MNIST('./MNIST_data/', download=True, train=True, transform=transform)\n",
    "trainloader = torch.utils.data.DataLoader(trainset, batch_size=64, shuffle=True)  # Cria um buffer para pegar os dados por partes\n",
    "\n",
    "# Carrega a parte de validação (teste) do dataset\n",
    "valset = datasets.MNIST('./MNIST_data/', download=True, train=False, transform=transform)\n",
    "valloader = torch.utils.data.DataLoader(valset, batch_size=64, shuffle=True)  # Cria um buffer para pegar os dados por partes"
   ]
  },
  {
   "cell_type": "code",
   "execution_count": 3,
   "id": "a39e0c22",
   "metadata": {},
   "outputs": [
    {
     "data": {
      "text/plain": [
       "<matplotlib.image.AxesImage at 0x14e1d6006e0>"
      ]
     },
     "execution_count": 3,
     "metadata": {},
     "output_type": "execute_result"
    },
    {
     "data": {
      "image/png": "[encoded data removed]",
      "text/plain": [
       "<Figure size 640x480 with 1 Axes>"
      ]
     },
     "metadata": {},
     "output_type": "display_data"
    }
   ],
   "source": [
    "dataiter = iter(trainloader)\n",
    "imagens, etiquetas = dataiter._next_data()\n",
    "plt.imshow(imagens[0].numpy().squeeze(), cmap='gray_r')"
   ]
  },
  {
   "cell_type": "code",
   "execution_count": 4,
   "id": "bd16afee",
   "metadata": {},
   "outputs": [],
   "source": [
    "class Modelo(nn.Module):\n",
    "    def __init__(self):\n",
    "        super(Modelo, self).__init__()\n",
    "        self.linear1 = nn.Linear(28*28, 128) # camada de entrada, 784 neurônios que se ligam a 128\n",
    "        self.linear2 = nn.Linear(128, 64)    # camada interna 1, 128 neurônios que se ligam a 64\n",
    "        self.linear3 = nn.Linear(64, 10)     # camada interna 2, 64 neurônios que se ligam a 10\n",
    "        # para a camada de saída não é necessário definir nada pois só precisamos pegar o output da camada interna 2\n",
    "\n",
    "    def forward(self, X):\n",
    "        X = F.relu(self.linear1(X)) # função de ativação da camada de entrada para a camada interna 1\n",
    "        X = F.relu(self.linear2(X)) # função de ativação da camada interna 1 para a camada interna 2\n",
    "        X = self.linear3(X)         # função de ativação da camada interna 2 para a camada de saída, nesse caso f(x) = x\n",
    "        return F.log_softmax(X, dim=1) # dados utilizados para calcular a perda\n"
   ]
  },
  {
   "cell_type": "code",
   "execution_count": 5,
   "id": "c2c087fd",
   "metadata": {},
   "outputs": [],
   "source": [
    "def treino(modelo, trainloader, device):\n",
    "    otimizador = optim.SGD(modelo.parameters(), lr=0.01, momentum=0.5) # define a política de atualização dos pesos e da bias\n",
    "    inicio = time() # timer para sabermos quanto tempo levou o treino\n",
    "\n",
    "    criterio = nn.NLLLoss() # definindo o criterio para calcular a perda\n",
    "    EPOCHS = 10 # numero de epochs que o algoritmo rodará\n",
    "    modelo.train() # ativando o modo de treinamento do modelo\n",
    "\n",
    "    for epoch in range(EPOCHS):\n",
    "        perda_acumulada = 0 # inicialização da perda acumulada da epoch em questão\n",
    "\n",
    "        for imagens, etiquetas in trainloader:\n",
    "\n",
    "            imagens = imagens.view(imagens.shape[0], -1) # convertendo as imagens para \"vetores\" de 28*28 casas para o modelo\n",
    "            otimizador.zero_grad() # zerando os gradientes por conta do ciclo anterior\n",
    "\n",
    "            output = modelo(imagens.to(device)) # colocando os dados no modelo\n",
    "            perda_instantanea = criterio(output, etiquetas.to(device)) # calculando a perda da epoch em questão\n",
    "            perda_instantanea.backward() # calculando os gradientes\n",
    "            otimizador.step() # atualizando os pesos\n",
    "            perda_acumulada += perda_instantanea.item() # acumulando a perda\n",
    "\n",
    "        else:\n",
    "            print(f\"Epoch {epoch+1}/{EPOCHS} - Perda acumulada: {perda_acumulada/len(trainloader):.4f}\")\n",
    "    \n",
    "    print(\"\\nTempo de treino (em minutos = )\", (time()-inicio)/60)\n"
   ]
  },
  {
   "cell_type": "code",
   "execution_count": 6,
   "id": "46c26c61",
   "metadata": {},
   "outputs": [],
   "source": [
    "def validacao(modelo, valloader, device):\n",
    "    conta_corretas, conta_todas = 0, 0\n",
    "    for imagens, etiquetas in valloader:\n",
    "        for i in range(len(etiquetas)):\n",
    "            img = imagens[i].view(1, 784)\n",
    "            # desativar o autograd para acelerar a validação. Grafos computacionais dinâmicos tem um custo alto de processamento\n",
    "            with torch.no_grad():\n",
    "                logps = modelo(img.to(device)) # output do modelo em escala logaritmica\n",
    "\n",
    "            ps = torch.exp(logps) # converte output para escala normal (lembrando que é um tensor)\n",
    "            probab = list(ps.cpu().numpy()[0])\n",
    "            etiqueta_pred = probab.index(max(probab)) # converte o tensor em um número, no caso, o número que o modelo previu como correto\n",
    "            etiqueta_certa = etiquetas.numpy()[i]\n",
    "            if(etiqueta_certa == etiqueta_pred): # compara a previsão com o valor correto\n",
    "                conta_corretas += 1\n",
    "            conta_todas += 1\n",
    "\n",
    "    print(\"Total de imagens testadas =\", conta_todas)\n",
    "    print(\"\\nPrecisão do modelo = {}%\".format(conta_corretas*100/conta_todas))\n"
   ]
  },
  {
   "cell_type": "code",
   "execution_count": 11,
   "id": "db9ad5e3",
   "metadata": {},
   "outputs": [
    {
     "name": "stdout",
     "output_type": "stream",
     "text": [
      "Usando: cpu\n"
     ]
    },
    {
     "data": {
      "text/plain": [
       "Modelo(\n",
       "  (linear1): Linear(in_features=784, out_features=128, bias=True)\n",
       "  (linear2): Linear(in_features=128, out_features=64, bias=True)\n",
       "  (linear3): Linear(in_features=64, out_features=10, bias=True)\n",
       ")"
      ]
     },
     "execution_count": 11,
     "metadata": {},
     "output_type": "execute_result"
    }
   ],
   "source": [
    "modelo = Modelo()\n",
    "device = torch.device('cuda' if torch.cuda.is_available() else 'cpu')\n",
    "print(\"Usando:\", device)\n",
    "modelo.to(device)\n"
   ]
  },
  {
   "cell_type": "markdown",
   "id": "77b4c5dd",
   "metadata": {},
   "source": [
    "### Treinar o modelo"
   ]
  },
  {
   "cell_type": "code",
   "execution_count": 8,
   "id": "3fe6e0de",
   "metadata": {},
   "outputs": [
    {
     "name": "stdout",
     "output_type": "stream",
     "text": [
      "Epoch 1/10 - Perda acumulada: 1.1893\n",
      "Epoch 2/10 - Perda acumulada: 0.3893\n",
      "Epoch 3/10 - Perda acumulada: 0.3188\n",
      "Epoch 4/10 - Perda acumulada: 0.2767\n",
      "Epoch 5/10 - Perda acumulada: 0.2440\n",
      "Epoch 6/10 - Perda acumulada: 0.2180\n",
      "Epoch 7/10 - Perda acumulada: 0.1965\n",
      "Epoch 8/10 - Perda acumulada: 0.1784\n",
      "Epoch 9/10 - Perda acumulada: 0.1623\n",
      "Epoch 10/10 - Perda acumulada: 0.1490\n",
      "\n",
      "Tempo de treino (em minutos = ) 0.7380694667498271\n"
     ]
    }
   ],
   "source": [
    "treino(modelo, trainloader, device)"
   ]
  },
  {
   "cell_type": "markdown",
   "id": "2fe1b9e8",
   "metadata": {},
   "source": [
    "### Validar/Testar o modelo"
   ]
  },
  {
   "cell_type": "code",
   "execution_count": 9,
   "id": "0cc67985",
   "metadata": {},
   "outputs": [
    {
     "name": "stdout",
     "output_type": "stream",
     "text": [
      "Total de imagens testadas = 10000\n",
      "\n",
      "Precisão do modelo = 95.77%\n"
     ]
    }
   ],
   "source": [
    "validacao(modelo, valloader, device)\n"
   ]
  },
  {
   "cell_type": "markdown",
   "id": "864ed2c5",
   "metadata": {},
   "source": [
    "### Testar em uma única imagem"
   ]
  },
  {
   "cell_type": "code",
   "execution_count": 16,
   "id": "4a41de1a",
   "metadata": {},
   "outputs": [
    {
     "data": {
      "image/png": "[encoded data removed]",
      "text/plain": [
       "<Figure size 640x480 with 1 Axes>"
      ]
     },
     "metadata": {},
     "output_type": "display_data"
    }
   ],
   "source": [
    "import matplotlib.pyplot as plt\n",
    "\n",
    "# pegar uma amostra\n",
    "dataiter = iter(valloader)\n",
    "imagens, etiquetas = next(dataiter)\n",
    "\n",
    "# escolher a primeira imagem\n",
    "img = imagens[0].view(1, 784)\n",
    "\n",
    "with torch.no_grad():\n",
    "    logps = modelo(img.to(device))\n",
    "\n",
    "ps = torch.exp(logps)\n",
    "probab = list(ps.cpu().numpy()[0])\n",
    "etiqueta_pred = probab.index(max(probab))\n",
    "\n",
    "plt.imshow(imagens[0].numpy().squeeze(), cmap='gray_r')\n",
    "plt.title(f\"Etiqueta real: {etiquetas[0].item()} | Predição: {etiqueta_pred}\")\n",
    "plt.show()\n"
   ]
  },
  {
   "cell_type": "code",
   "execution_count": null,
   "id": "1820fc4d",
   "metadata": {},
   "outputs": [],
   "source": []
  }
 ],
 "metadata": {
  "kernelspec": {
   "display_name": "science",
   "language": "python",
   "name": "python3"
  },
  "language_info": {
   "codemirror_mode": {
    "name": "ipython",
    "version": 3
   },
   "file_extension": ".py",
   "mimetype": "text/x-python",
   "name": "python",
   "nbconvert_exporter": "python",
   "pygments_lexer": "ipython3",
   "version": "3.13.0"
  }
 },
 "nbformat": 4,
 "nbformat_minor": 5
}
